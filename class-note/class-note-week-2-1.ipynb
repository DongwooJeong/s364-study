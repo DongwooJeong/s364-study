{
 "cells": [
  {
   "cell_type": "code",
   "execution_count": 2,
   "id": "05f8276a",
   "metadata": {},
   "outputs": [],
   "source": [
    "x = 12.2"
   ]
  },
  {
   "cell_type": "code",
   "execution_count": 3,
   "id": "0f90106a",
   "metadata": {},
   "outputs": [
    {
     "name": "stdout",
     "output_type": "stream",
     "text": [
      "12.2\n"
     ]
    }
   ],
   "source": [
    "print(x)"
   ]
  },
  {
   "cell_type": "code",
   "execution_count": 4,
   "id": "840f9831",
   "metadata": {},
   "outputs": [],
   "source": [
    "y = 14"
   ]
  },
  {
   "cell_type": "code",
   "execution_count": 5,
   "id": "7fc98afa",
   "metadata": {},
   "outputs": [
    {
     "name": "stdout",
     "output_type": "stream",
     "text": [
      "14\n"
     ]
    }
   ],
   "source": [
    "print(y)"
   ]
  },
  {
   "cell_type": "code",
   "execution_count": 8,
   "id": "23d08997",
   "metadata": {},
   "outputs": [],
   "source": [
    "a_b = 3"
   ]
  },
  {
   "cell_type": "code",
   "execution_count": 9,
   "id": "399ef355",
   "metadata": {},
   "outputs": [],
   "source": [
    "x = .6"
   ]
  },
  {
   "cell_type": "code",
   "execution_count": 10,
   "id": "c68f2871",
   "metadata": {},
   "outputs": [],
   "source": [
    "x=3.9*x*(1-x)"
   ]
  },
  {
   "cell_type": "code",
   "execution_count": 11,
   "id": "c4e8e745",
   "metadata": {},
   "outputs": [
    {
     "name": "stdout",
     "output_type": "stream",
     "text": [
      "0.9359999999999999\n"
     ]
    }
   ],
   "source": [
    "print(x)"
   ]
  },
  {
   "cell_type": "code",
   "execution_count": null,
   "id": "d8e25185",
   "metadata": {},
   "outputs": [],
   "source": []
  }
 ],
 "metadata": {
  "kernelspec": {
   "display_name": "Python 3 (ipykernel)",
   "language": "python",
   "name": "python3"
  },
  "language_info": {
   "codemirror_mode": {
    "name": "ipython",
    "version": 3
   },
   "file_extension": ".py",
   "mimetype": "text/x-python",
   "name": "python",
   "nbconvert_exporter": "python",
   "pygments_lexer": "ipython3",
   "version": "3.9.12"
  }
 },
 "nbformat": 4,
 "nbformat_minor": 5
}
