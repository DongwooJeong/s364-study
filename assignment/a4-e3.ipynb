{
 "cells": [
  {
   "cell_type": "code",
   "execution_count": 1,
   "id": "05c575fe",
   "metadata": {},
   "outputs": [
    {
     "name": "stdout",
     "output_type": "stream",
     "text": [
      "Enter the number of the item(from 1 to 4): 3\n",
      "28 days until expiration date.\n"
     ]
    }
   ],
   "source": [
    "from datetime import datetime\n",
    "\n",
    "egglist = [\"2022-10-20\",\"2022-10-21\",\"2022-10-23\",\"2022-10-30\"]\n",
    "eggnum = int(input(\"Enter the number of the item(from 1 to 4): \"))\n",
    "\n",
    "eggdate = datetime.strptime(egglist[eggnum-1], \"%Y-%m-%d\")\n",
    "eggtoday = datetime.now()\n",
    "\n",
    "eggdiff = str(eggdate-eggtoday)\n",
    "\n",
    "eggindex = eggdiff.find(\"days\")\n",
    "print(eggdiff[0:eggindex+4], \"until expiration date.\")"
   ]
  },
  {
   "cell_type": "code",
   "execution_count": null,
   "id": "c2686d18",
   "metadata": {},
   "outputs": [],
   "source": []
  }
 ],
 "metadata": {
  "kernelspec": {
   "display_name": "Python 3 (ipykernel)",
   "language": "python",
   "name": "python3"
  },
  "language_info": {
   "codemirror_mode": {
    "name": "ipython",
    "version": 3
   },
   "file_extension": ".py",
   "mimetype": "text/x-python",
   "name": "python",
   "nbconvert_exporter": "python",
   "pygments_lexer": "ipython3",
   "version": "3.9.12"
  }
 },
 "nbformat": 4,
 "nbformat_minor": 5
}
